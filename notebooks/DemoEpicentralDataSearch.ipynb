{
 "cells": [
  {
   "cell_type": "markdown",
   "metadata": {},
   "source": [
    "#Demonstration of how to get data and ground motion parameters based on an epicentral location and event time\n",
    "## Description\n",
    "reviewData is a wrapper for [obspy](https://github.com/obspy/obspy/wiki) that reads in data from IRIS, NCEDC, sac files, or winston waveservers and allows for interactive plotting, processing, and manipulation of this data. It also allows you to find stations within a given radius that were running at a given time and attach metadata such as lat\\lon, azimuth, backazimuth, and source to station distance by calling IRIS webservices or NCEDC.\n",
    "\n",
    "The following sections illustrate how to grab data from certain station types based on an epicentral location and event time using the 2016 Taiwan earthquake as an example.\n",
    "\n",
    "Note that this is a prototype module and is sure to have some bugs. If you encounter something that needs fixing, please contact kallstadt@usgs.gov\n",
    "## Demo\n",
    "First load in reviewData and define a few things"
   ]
  },
  {
   "cell_type": "code",
   "execution_count": 1,
   "metadata": {
    "collapsed": true
   },
   "outputs": [],
   "source": [
    "from reviewData import reviewData\n",
    "\n",
    "# Define event parameters\n",
    "event_lat = 22.83\n",
    "event_lon = 120.625\n",
    "event_time = '2016-02-05T19:57:26' # This can be in any UTCDateTime readable format\n",
    "\n",
    "# Define what data to download\n",
    "tstart = -3.  # sec to add to event_time for start of data\n",
    "tend = +200.  # sec to add to event_time for end of data\n",
    "channels = 'strong motion' # This gets accelerometer data (excluding low sample rate data)\n",
    "distkm = 300.\n",
    "source = 'IRIS' # The only other option currently is NCEDC"
   ]
  },
  {
   "cell_type": "markdown",
   "metadata": {},
   "source": [
    "Now pull the raw data. This step will attach station response information (if available) that is needed for later steps."
   ]
  },
  {
   "cell_type": "code",
   "execution_count": 2,
   "metadata": {
    "collapsed": true
   },
   "outputs": [],
   "source": [
    "st = reviewData.getepidata(event_lat, event_lon, event_time, tstart=tstart,\n",
    "                           tend=tend, minradiuskm=0., maxradiuskm=distkm,\n",
    "                           channels=channels, location='*', source=source)"
   ]
  },
  {
   "cell_type": "markdown",
   "metadata": {},
   "source": [
    "Let's see what we got. print st will print a shortened version, but there is also an option to print the full list. Both are executed below"
   ]
  },
  {
   "cell_type": "code",
   "execution_count": 4,
   "metadata": {
    "collapsed": false
   },
   "outputs": [
    {
     "name": "stdout",
     "output_type": "stream",
     "text": [
      "24 Trace(s) in Stream:\n",
      "\n",
      "IU.TATO.20.HN1 | 2016-02-05T19:57:23.018393Z - 2016-02-05T20:00:45.998393Z | 100.0 Hz, 20299 samples\n",
      "...\n",
      "(22 other traces)\n",
      "...\n",
      "TW.YULB..BLE | 2016-02-05T19:57:23.019500Z - 2016-02-05T20:00:45.969500Z | 20.0 Hz, 4060 samples\n",
      "\n",
      "[Use \"print(Stream.__str__(extended=True))\" to print all Traces]\n"
     ]
    }
   ],
   "source": [
    "# See what we got\n",
    "print st"
   ]
  },
  {
   "cell_type": "code",
   "execution_count": 5,
   "metadata": {
    "collapsed": false
   },
   "outputs": [
    {
     "name": "stdout",
     "output_type": "stream",
     "text": [
      "24 Trace(s) in Stream:\n",
      "IU.TATO.20.HN1 | 2016-02-05T19:57:23.018393Z - 2016-02-05T20:00:45.998393Z | 100.0 Hz, 20299 samples\n",
      "IU.TATO.20.HN2 | 2016-02-05T19:57:23.018393Z - 2016-02-05T20:00:45.998393Z | 100.0 Hz, 20299 samples\n",
      "IU.TATO.20.HNZ | 2016-02-05T19:57:23.018393Z - 2016-02-05T20:00:45.998393Z | 100.0 Hz, 20299 samples\n",
      "TW.KMNB..BLZ   | 2016-02-05T19:57:23.019500Z - 2016-02-05T20:00:45.969500Z | 20.0 Hz, 4060 samples\n",
      "TW.KMNB..BLN   | 2016-02-05T19:57:23.019500Z - 2016-02-05T20:00:45.969500Z | 20.0 Hz, 4060 samples\n",
      "TW.KMNB..BLE   | 2016-02-05T19:57:23.019500Z - 2016-02-05T20:00:45.969500Z | 20.0 Hz, 4060 samples\n",
      "TW.NACB..BLE   | 2016-02-05T19:57:23.019500Z - 2016-02-05T20:00:45.969500Z | 20.0 Hz, 4060 samples\n",
      "TW.NACB..BLN   | 2016-02-05T19:57:23.019500Z - 2016-02-05T20:00:45.969500Z | 20.0 Hz, 4060 samples\n",
      "TW.NACB..BLZ   | 2016-02-05T19:57:23.019500Z - 2016-02-05T20:00:45.969500Z | 20.0 Hz, 4060 samples\n",
      "TW.SSLB..BLZ   | 2016-02-05T19:57:23.019500Z - 2016-02-05T20:00:45.969500Z | 20.0 Hz, 4060 samples\n",
      "TW.SSLB..BLN   | 2016-02-05T19:57:23.019500Z - 2016-02-05T20:00:45.969500Z | 20.0 Hz, 4060 samples\n",
      "TW.SSLB..BLE   | 2016-02-05T19:57:23.019500Z - 2016-02-05T20:00:45.969500Z | 20.0 Hz, 4060 samples\n",
      "TW.TPUB..BLN   | 2016-02-05T19:57:23.019500Z - 2016-02-05T20:00:45.969500Z | 20.0 Hz, 4060 samples\n",
      "TW.TPUB..BLE   | 2016-02-05T19:57:23.019500Z - 2016-02-05T20:00:45.969500Z | 20.0 Hz, 4060 samples\n",
      "TW.TPUB..BLZ   | 2016-02-05T19:57:23.019500Z - 2016-02-05T20:00:45.969500Z | 20.0 Hz, 4060 samples\n",
      "TW.TWGB..BLZ   | 2016-02-05T19:57:23.019500Z - 2016-02-05T20:00:45.969500Z | 20.0 Hz, 4060 samples\n",
      "TW.TWGB..BLN   | 2016-02-05T19:57:23.019500Z - 2016-02-05T20:00:45.969500Z | 20.0 Hz, 4060 samples\n",
      "TW.TWGB..BLE   | 2016-02-05T19:57:23.019500Z - 2016-02-05T20:00:45.969500Z | 20.0 Hz, 4060 samples\n",
      "TW.YHNB..BLZ   | 2016-02-05T19:57:23.019500Z - 2016-02-05T20:00:45.969500Z | 20.0 Hz, 4060 samples\n",
      "TW.YHNB..BLN   | 2016-02-05T19:57:23.019500Z - 2016-02-05T20:00:45.969500Z | 20.0 Hz, 4060 samples\n",
      "TW.YHNB..BLE   | 2016-02-05T19:57:23.019500Z - 2016-02-05T20:00:45.969500Z | 20.0 Hz, 4060 samples\n",
      "TW.YULB..BLZ   | 2016-02-05T19:57:23.019500Z - 2016-02-05T20:00:45.969500Z | 20.0 Hz, 4060 samples\n",
      "TW.YULB..BLN   | 2016-02-05T19:57:23.019500Z - 2016-02-05T20:00:45.969500Z | 20.0 Hz, 4060 samples\n",
      "TW.YULB..BLE   | 2016-02-05T19:57:23.019500Z - 2016-02-05T20:00:45.969500Z | 20.0 Hz, 4060 samples\n"
     ]
    }
   ],
   "source": [
    "print(st.__str__(extended=True))"
   ]
  },
  {
   "cell_type": "code",
   "execution_count": 6,
   "metadata": {
    "collapsed": false
   },
   "outputs": [
    {
     "data": {
      "text/plain": [
       "         network: IU\n",
       "         station: TATO\n",
       "        location: 20\n",
       "         channel: HN1\n",
       "       starttime: 2016-02-05T19:57:23.018393Z\n",
       "         endtime: 2016-02-05T20:00:45.998393Z\n",
       "   sampling_rate: 100.0\n",
       "           delta: 0.01\n",
       "            npts: 20299\n",
       "           calib: 1.0\n",
       "         _format: MSEED\n",
       "           mseed: AttribDict({'record_length': 512, 'encoding': u'STEIM2', 'filesize': 243200, u'dataquality': u'M', 'number_of_records': 475, 'byteorder': u'>'})\n",
       "      processing: [u\"ObsPy 0.10.2: detrend(options={}::type='linear')\", u'ObsPy 0.10.2: trim(endtime=None::fill_value=0::nearest_sample=True::pad=True::starttime=2016-02-05T19:57:23.019500Z)']\n",
       "        response: Channel Response\n",
       "\tFrom M/S**2 (Acceleration in Meters Per Second Per Second) to COUNTS (Digital Counts)\n",
       "\tOverall Sensitivity: 427986 defined at 1.000 Hz\n",
       "\t3 stages:\n",
       "\t\tStage 1: PolesZerosResponseStage from M/S**2 to V, gain: 1.0204\n",
       "\t\tStage 2: CoefficientsTypeResponseStage from V to COUNTS, gain: 419430\n",
       "\t\tStage 3: CoefficientsTypeResponseStage from COUNTS to COUNTS, gain: 1"
      ]
     },
     "execution_count": 6,
     "metadata": {},
     "output_type": "execute_result"
    }
   ],
   "source": [
    "# Check to make sure the response information was actually attached\n",
    "st[0].stats"
   ]
  },
  {
   "cell_type": "markdown",
   "metadata": {},
   "source": [
    "It is good practice to actually look at the data before blindly calculating ground motion parameters. reviewData.InteractivePlot allows one to browse through the data and delete any traces that should not be included in the calculations. Here is how it is run, note that it does not work in IPython Notebook, it must be run in IPython with pylab, so either start up by typing ipython --pylab or type %pylab once you are in ipython or IPython Notebook. It will not embed in ipython notebook but will instead open a new window"
   ]
  },
  {
   "cell_type": "code",
   "execution_count": 8,
   "metadata": {
    "collapsed": false
   },
   "outputs": [
    {
     "name": "stdout",
     "output_type": "stream",
     "text": [
      "\n",
      "        up - double scaling\n",
      "        down - half scaling\n",
      "        right - move forward\n",
      "        left - go back\n",
      "        A - make amplitude pick\n",
      "        B - box zoom\n",
      "        C - station correction\n",
      "        D - scroll down a trace\n",
      "        E - envelopes\n",
      "        F - bandpass filter\n",
      "        G - spectrogram current window\n",
      "        H - show or hide help menu (toggle)\n",
      "        I - show or hide processing summary (toggle)\n",
      "        J - change number of traces shown\n",
      "        K - kurtosis (not working yet)\n",
      "        L - make pseudoenergy pick\n",
      "        M - change norm mode\n",
      "        O - delete selected trace (X to reset)\n",
      "        P - make P phase pick (N cancels)\n",
      "        Q - quit\n",
      "        R - previous view\n",
      "        S - make S phase pick (N cancels)\n",
      "        T - print timestamp\n",
      "        U - scroll up a trace\n",
      "        V - undo data change\n",
      "        W - change window len\n",
      "        X - reset to original data\n",
      "        Z - zoom x-only\n",
      "        + - page down\n",
      "        - - page up\n",
      "        @ - toggle quickdraw (default on, may be slow if you turn it off)\n",
      "        ! - save figure (without textbox)\n",
      "        \n"
     ]
    }
   ],
   "source": [
    "zp = reviewData.InteractivePlot(st)\n",
    "st = zp.st  # Pulls original data with deleted ones deleted"
   ]
  },
  {
   "cell_type": "markdown",
   "metadata": {},
   "source": [
    "If you wanted to look at the data after station corrections are applied, you need to tell InteractivePlot how to correct the data. For example, to do a station correction to acceleration with no prefiltering, run the following code and press \"c\" to apply the station correction interactively."
   ]
  },
  {
   "cell_type": "code",
   "execution_count": 9,
   "metadata": {
    "collapsed": false
   },
   "outputs": [
    {
     "name": "stdout",
     "output_type": "stream",
     "text": [
      "\n",
      "        up - double scaling\n",
      "        down - half scaling\n",
      "        right - move forward\n",
      "        left - go back\n",
      "        A - make amplitude pick\n",
      "        B - box zoom\n",
      "        C - station correction\n",
      "        D - scroll down a trace\n",
      "        E - envelopes\n",
      "        F - bandpass filter\n",
      "        G - spectrogram current window\n",
      "        H - show or hide help menu (toggle)\n",
      "        I - show or hide processing summary (toggle)\n",
      "        J - change number of traces shown\n",
      "        K - kurtosis (not working yet)\n",
      "        L - make pseudoenergy pick\n",
      "        M - change norm mode\n",
      "        O - delete selected trace (X to reset)\n",
      "        P - make P phase pick (N cancels)\n",
      "        Q - quit\n",
      "        R - previous view\n",
      "        S - make S phase pick (N cancels)\n",
      "        T - print timestamp\n",
      "        U - scroll up a trace\n",
      "        V - undo data change\n",
      "        W - change window len\n",
      "        X - reset to original data\n",
      "        Z - zoom x-only\n",
      "        + - page down\n",
      "        - - page up\n",
      "        @ - toggle quickdraw (default on, may be slow if you turn it off)\n",
      "        ! - save figure (without textbox)\n",
      "        \n"
     ]
    }
   ],
   "source": [
    "zp = reviewData.InteractivePlot(st, cosfilt=None, output='ACC')"
   ]
  },
  {
   "cell_type": "markdown",
   "metadata": {},
   "source": [
    "## Calculating Ground motion parameters\n",
    "There are a number of options for calculating ground motion parameters. This demo shows all of them at once. This code will attach lats and lons, perform the station correction specified in the inputs, calculate Peak Ground Acceleration, Peak Ground Velocity, and Peak Spectral Acceleration at the specified periods and save those in the stats dictionary of each trace. It will also print them to the screen if verbal=True and output them in a csv file is a csvfile name is specified. In all cases, even if pga, pgv and psa are all set to False, it will output the corrected traces, stacc corrected to acceleration (m/s^2) and stvel corrected to velocity (m/s)."
   ]
  },
  {
   "cell_type": "code",
   "execution_count": 10,
   "metadata": {
    "collapsed": false
   },
   "outputs": [
    {
     "name": "stdout",
     "output_type": "stream",
     "text": [
      "IU.TATO.20.HN1 - PGA = 0.019 m/s\n",
      "IU.TATO.20.HN2 - PGA = 0.016 m/s\n",
      "IU.TATO.20.HNZ - PGA = 0.009 m/s\n",
      "TW.KMNB..BLZ - PGA = 0.016 m/s\n",
      "TW.KMNB..BLN - PGA = 0.016 m/s\n",
      "TW.KMNB..BLE - PGA = 0.012 m/s\n",
      "TW.NACB..BLE - PGA = 0.015 m/s\n",
      "TW.NACB..BLN - PGA = 0.011 m/s\n",
      "TW.NACB..BLZ - PGA = 0.015 m/s\n",
      "TW.SSLB..BLZ - PGA = 0.065 m/s\n",
      "TW.SSLB..BLN - PGA = 0.076 m/s\n",
      "TW.SSLB..BLE - PGA = 0.087 m/s\n",
      "TW.TPUB..BLN - PGA = 0.665 m/s\n",
      "TW.TPUB..BLE - PGA = 0.597 m/s\n",
      "TW.TPUB..BLZ - PGA = 0.283 m/s\n",
      "TW.TWGB..BLZ - PGA = 0.105 m/s\n",
      "TW.TWGB..BLN - PGA = 0.134 m/s\n",
      "TW.TWGB..BLE - PGA = 0.216 m/s\n",
      "TW.YHNB..BLZ - PGA = 0.020 m/s\n",
      "TW.YHNB..BLN - PGA = 0.029 m/s\n",
      "TW.YHNB..BLE - PGA = 0.035 m/s\n",
      "TW.YULB..BLZ - PGA = 0.038 m/s\n",
      "TW.YULB..BLN - PGA = 0.072 m/s\n",
      "TW.YULB..BLE - PGA = 0.046 m/s\n",
      "IU.TATO.20.HN1 - PGV = 0.004 m/s\n",
      "IU.TATO.20.HN2 - PGV = 0.004 m/s\n",
      "IU.TATO.20.HNZ - PGV = 0.002 m/s\n",
      "TW.KMNB..BLZ - PGV = 0.004 m/s\n",
      "TW.KMNB..BLN - PGV = 0.003 m/s\n",
      "TW.KMNB..BLE - PGV = 0.002 m/s\n",
      "TW.NACB..BLE - PGV = 0.002 m/s\n",
      "TW.NACB..BLN - PGV = 0.002 m/s\n",
      "TW.NACB..BLZ - PGV = 0.003 m/s\n",
      "TW.SSLB..BLZ - PGV = 0.007 m/s\n",
      "TW.SSLB..BLN - PGV = 0.008 m/s\n",
      "TW.SSLB..BLE - PGV = 0.008 m/s\n",
      "TW.TPUB..BLN - PGV = 0.049 m/s\n",
      "TW.TPUB..BLE - PGV = 0.050 m/s\n",
      "TW.TPUB..BLZ - PGV = 0.015 m/s\n",
      "TW.TWGB..BLZ - PGV = 0.011 m/s\n",
      "TW.TWGB..BLN - PGV = 0.013 m/s\n",
      "TW.TWGB..BLE - PGV = 0.022 m/s\n",
      "TW.YHNB..BLZ - PGV = 0.003 m/s\n",
      "TW.YHNB..BLN - PGV = 0.004 m/s\n",
      "TW.YHNB..BLE - PGV = 0.004 m/s\n",
      "TW.YULB..BLZ - PGV = 0.005 m/s\n",
      "TW.YULB..BLN - PGV = 0.006 m/s\n",
      "TW.YULB..BLE - PGV = 0.006 m/s\n",
      "IU.TATO.20.HN1 - PSA at 0.3 sec = 0.037 m/s^2\n",
      "IU.TATO.20.HN1 - PSA at 1.0 sec = 0.066 m/s^2\n",
      "IU.TATO.20.HN1 - PSA at 3.0 sec = 0.018 m/s^2\n",
      "IU.TATO.20.HN2 - PSA at 0.3 sec = 0.037 m/s^2\n",
      "IU.TATO.20.HN2 - PSA at 1.0 sec = 0.033 m/s^2\n",
      "IU.TATO.20.HN2 - PSA at 3.0 sec = 0.014 m/s^2\n",
      "IU.TATO.20.HNZ - PSA at 0.3 sec = 0.018 m/s^2\n",
      "IU.TATO.20.HNZ - PSA at 1.0 sec = 0.021 m/s^2\n",
      "IU.TATO.20.HNZ - PSA at 3.0 sec = 0.015 m/s^2\n",
      "TW.KMNB..BLZ - PSA at 0.3 sec = 0.030 m/s^2\n",
      "TW.KMNB..BLZ - PSA at 1.0 sec = 0.042 m/s^2\n",
      "TW.KMNB..BLZ - PSA at 3.0 sec = 0.021 m/s^2\n",
      "TW.KMNB..BLN - PSA at 0.3 sec = 0.027 m/s^2\n",
      "TW.KMNB..BLN - PSA at 1.0 sec = 0.027 m/s^2\n",
      "TW.KMNB..BLN - PSA at 3.0 sec = 0.019 m/s^2\n",
      "TW.KMNB..BLE - PSA at 0.3 sec = 0.027 m/s^2\n",
      "TW.KMNB..BLE - PSA at 1.0 sec = 0.035 m/s^2\n",
      "TW.KMNB..BLE - PSA at 3.0 sec = 0.010 m/s^2\n",
      "TW.NACB..BLE - PSA at 0.3 sec = 0.048 m/s^2\n",
      "TW.NACB..BLE - PSA at 1.0 sec = 0.015 m/s^2\n",
      "TW.NACB..BLE - PSA at 3.0 sec = 0.008 m/s^2\n",
      "TW.NACB..BLN - PSA at 0.3 sec = 0.035 m/s^2\n",
      "TW.NACB..BLN - PSA at 1.0 sec = 0.015 m/s^2\n",
      "TW.NACB..BLN - PSA at 3.0 sec = 0.008 m/s^2\n",
      "TW.NACB..BLZ - PSA at 0.3 sec = 0.037 m/s^2\n",
      "TW.NACB..BLZ - PSA at 1.0 sec = 0.028 m/s^2\n",
      "TW.NACB..BLZ - PSA at 3.0 sec = 0.006 m/s^2\n",
      "TW.SSLB..BLZ - PSA at 0.3 sec = 0.223 m/s^2\n",
      "TW.SSLB..BLZ - PSA at 1.0 sec = 0.098 m/s^2\n",
      "TW.SSLB..BLZ - PSA at 3.0 sec = 0.011 m/s^2\n",
      "TW.SSLB..BLN - PSA at 0.3 sec = 0.327 m/s^2\n",
      "TW.SSLB..BLN - PSA at 1.0 sec = 0.083 m/s^2\n",
      "TW.SSLB..BLN - PSA at 3.0 sec = 0.017 m/s^2\n",
      "TW.SSLB..BLE - PSA at 0.3 sec = 0.244 m/s^2\n",
      "TW.SSLB..BLE - PSA at 1.0 sec = 0.158 m/s^2\n",
      "TW.SSLB..BLE - PSA at 3.0 sec = 0.022 m/s^2\n",
      "TW.TPUB..BLN - PSA at 0.3 sec = 1.085 m/s^2\n",
      "TW.TPUB..BLN - PSA at 1.0 sec = 0.436 m/s^2\n",
      "TW.TPUB..BLN - PSA at 3.0 sec = 0.070 m/s^2\n",
      "TW.TPUB..BLE - PSA at 0.3 sec = 1.359 m/s^2\n",
      "TW.TPUB..BLE - PSA at 1.0 sec = 0.510 m/s^2\n",
      "TW.TPUB..BLE - PSA at 3.0 sec = 0.068 m/s^2\n",
      "TW.TPUB..BLZ - PSA at 0.3 sec = 0.857 m/s^2\n",
      "TW.TPUB..BLZ - PSA at 1.0 sec = 0.210 m/s^2\n",
      "TW.TPUB..BLZ - PSA at 3.0 sec = 0.033 m/s^2\n",
      "TW.TWGB..BLZ - PSA at 0.3 sec = 0.236 m/s^2\n",
      "TW.TWGB..BLZ - PSA at 1.0 sec = 0.150 m/s^2\n",
      "TW.TWGB..BLZ - PSA at 3.0 sec = 0.037 m/s^2\n",
      "TW.TWGB..BLN - PSA at 0.3 sec = 0.393 m/s^2\n",
      "TW.TWGB..BLN - PSA at 1.0 sec = 0.178 m/s^2\n",
      "TW.TWGB..BLN - PSA at 3.0 sec = 0.029 m/s^2\n",
      "TW.TWGB..BLE - PSA at 0.3 sec = 0.448 m/s^2\n",
      "TW.TWGB..BLE - PSA at 1.0 sec = 0.148 m/s^2\n",
      "TW.TWGB..BLE - PSA at 3.0 sec = 0.021 m/s^2\n",
      "TW.YHNB..BLZ - PSA at 0.3 sec = 0.058 m/s^2\n",
      "TW.YHNB..BLZ - PSA at 1.0 sec = 0.027 m/s^2\n",
      "TW.YHNB..BLZ - PSA at 3.0 sec = 0.008 m/s^2\n",
      "TW.YHNB..BLN - PSA at 0.3 sec = 0.058 m/s^2\n",
      "TW.YHNB..BLN - PSA at 1.0 sec = 0.050 m/s^2\n",
      "TW.YHNB..BLN - PSA at 3.0 sec = 0.012 m/s^2\n",
      "TW.YHNB..BLE - PSA at 0.3 sec = 0.092 m/s^2\n",
      "TW.YHNB..BLE - PSA at 1.0 sec = 0.049 m/s^2\n",
      "TW.YHNB..BLE - PSA at 3.0 sec = 0.012 m/s^2\n",
      "TW.YULB..BLZ - PSA at 0.3 sec = 0.096 m/s^2\n",
      "TW.YULB..BLZ - PSA at 1.0 sec = 0.049 m/s^2\n",
      "TW.YULB..BLZ - PSA at 3.0 sec = 0.022 m/s^2\n",
      "TW.YULB..BLN - PSA at 0.3 sec = 0.213 m/s^2\n",
      "TW.YULB..BLN - PSA at 1.0 sec = 0.040 m/s^2\n",
      "TW.YULB..BLN - PSA at 3.0 sec = 0.018 m/s^2\n",
      "TW.YULB..BLE - PSA at 0.3 sec = 0.141 m/s^2\n",
      "TW.YULB..BLE - PSA at 1.0 sec = 0.077 m/s^2\n",
      "TW.YULB..BLE - PSA at 3.0 sec = 0.014 m/s^2\n"
     ]
    }
   ],
   "source": [
    "stacc, stvel = reviewData.getpeaks(st, pga=True, pgv=True, psa=True,\n",
    "                                   periods=[0.3, 1.0, 3.0], damping=0.05,\n",
    "                                   cosfilt=None, water_level=60., verbal=True,\n",
    "                                   csvfile='test.csv')"
   ]
  },
  {
   "cell_type": "markdown",
   "metadata": {},
   "source": [
    "This outputs a csvfile, name specified in inputs, containing all these measurements (to greater precision than printed out) that can be opened in excel or imported to another function."
   ]
  },
  {
   "cell_type": "markdown",
   "metadata": {},
   "source": [
    "To just get the corrected traces and attach the lats and lons to the files:"
   ]
  },
  {
   "cell_type": "code",
   "execution_count": 11,
   "metadata": {
    "collapsed": true
   },
   "outputs": [],
   "source": [
    "stacc, stvel = reviewData.getpeaks(st, pga=False, pgv=False, psa=False, csvfile=None)"
   ]
  },
  {
   "cell_type": "code",
   "execution_count": 12,
   "metadata": {
    "collapsed": false
   },
   "outputs": [
    {
     "name": "stdout",
     "output_type": "stream",
     "text": [
      "AttribDict({'latitude': 24.9735, 'elevation': 160.0, 'longitude': 121.4971})\n"
     ]
    }
   ],
   "source": [
    "print stacc[0].stats.coordinates  # Elevation is in meters"
   ]
  }
 ],
 "metadata": {
  "kernelspec": {
   "display_name": "Python 2",
   "language": "python",
   "name": "python2"
  },
  "language_info": {
   "codemirror_mode": {
    "name": "ipython",
    "version": 2
   },
   "file_extension": ".py",
   "mimetype": "text/x-python",
   "name": "python",
   "nbconvert_exporter": "python",
   "pygments_lexer": "ipython2",
   "version": "2.7.11"
  }
 },
 "nbformat": 4,
 "nbformat_minor": 0
}
